{
 "cells": [
  {
   "attachments": {},
   "cell_type": "markdown",
   "metadata": {},
   "source": [
    "## Homework #1"
   ]
  },
  {
   "attachments": {},
   "cell_type": "markdown",
   "metadata": {},
   "source": [
    "### Question 1: Knowing docker tags"
   ]
  },
  {
   "attachments": {},
   "cell_type": "markdown",
   "metadata": {},
   "source": [
    "Which tag has the following text? \n",
    "    --iidfile string"
   ]
  },
  {
   "attachments": {},
   "cell_type": "markdown",
   "metadata": {},
   "source": [
    "### Question 2. Understanding docker first run"
   ]
  },
  {
   "attachments": {},
   "cell_type": "markdown",
   "metadata": {},
   "source": [
    "TERMINAL OUTPUT:\n",
    "\n",
    "(base) ronaldajohnson@de-zoomcamp:~/data-engineering-zoomcamp/week_1_basics_n_setup/2_docker_sql$ docker run -it --entrypoint=bash python:3.9\n",
    "root@2a1faadd783d:/# pip list\n",
    "Package    Version\n",
    "---------- -------\n",
    "pip        22.0.4\n",
    "setuptools 58.1.0\n",
    "wheel      0.38.4\n",
    "WARNING: You are using pip version 22.0.4; however, version 22.3.1 is available.\n",
    "You should consider upgrading via the '/usr/local/bin/python -m pip install --upgrade pip' command.\n",
    "root@2a1faadd783d:/# "
   ]
  },
  {
   "attachments": {},
   "cell_type": "markdown",
   "metadata": {},
   "source": [
    "## Question 3. Count Records"
   ]
  },
  {
   "attachments": {},
   "cell_type": "markdown",
   "metadata": {},
   "source": [
    "How many taxi trips were totally made on January 15? \n",
    "* 20530\n",
    "\n",
    "TERMINAL OUTPUT:\n",
    "\n",
    "Select COUNT(*) from green_taxi_data where DATE(lpep_pickup_datetime) = '2019-01-15' and DATE(lpep_dropoff_datetime) ='2019-01-15'\n",
    "+-------+\n",
    "| count |\n",
    "|-------|\n",
    "| 20530 |\n",
    "+-------+\n",
    "\n",
    "Select * from green_taxi_data where DATE(lpep_pickup_datetime) = '2019-01-15' and DATE(lpep_dropoff_datetime) ='2019-01-15'\n",
    "The result was limited to 1000 rows\n",
    "+--------+----------+----------------------+-----------------------+--------------------+------------+--------------+--------------+-----------------+---------------+------>\n",
    "| index  | VendorID | lpep_pickup_datetime | lpep_dropoff_datetime | store_and_fwd_flag | RatecodeID | PULocationID | DOLocationID | passenger_count | trip_distance | fare_>\n",
    "|--------+----------+----------------------+-----------------------+--------------------+------------+--------------+--------------+-----------------+---------------+------>\n",
    "| 276753 | 2        | 2019-01-15 17:44:00  | 2019-01-15 18:03:10   | N                  | 1          | 34           | 52           | 1               | 2.08          | 13.0 >\n",
    "| 272684 | 2        | 2019-01-15 15:33:43  | 2019-01-15 15:33:50   | N                  | 5          | 195          | 195          | 1               | 0.0           | 35.0 >\n",
    "| 275421 | 2        | 2019-01-15 16:50:12  | 2019-01-15 17:23:03   | N                  | 1          | 195          | 17           | 1               | 6.37          | 25.5 >\n",
    "| 278806 | 2        | 2019-01-15 20:02:24  | 2019-01-15 20:17:52   | N                  | 1          | 195          | 228          | 1               | 3.23          | 13.0 >\n",
    "| 279998 | 2        | 2019-01-15 00:00:45  | 2019-01-15 00:07:05   | N                  | 1          | 244          | 42           | 2               | 1.6           | 7.5  >\n",
    "| 280030 | 2        | 2019-01-15 00:01:19  | 2019-01-15 00:04:25   | N                  | 1          | 244          | 116          | 1               | 0.68          | 4.5  >\n",
    "| 280040 | 2        | 2019-01-15 00:01:46  | 2019-01-15 00:08:47   | N                  | 1          | 134          | 197          | 1               | 2.68          | 10.0 >\n",
    "| 280062 | 2        | 2019-01-15 00:01:38  | 2019-01-15 00:11:09   | N                  | 1          | 41           | 161          | 1               | 3.77          | 12.0 >\n"
   ]
  },
  {
   "attachments": {},
   "cell_type": "markdown",
   "metadata": {},
   "source": [
    "## Question 4. Largest trip for each day"
   ]
  },
  {
   "attachments": {},
   "cell_type": "markdown",
   "metadata": {},
   "source": [
    "Which was the day with the largest trip distance Use the pick up time for your calculations.\n",
    "\n",
    "* 2019-01-15\n",
    "\n",
    "\n",
    "TERMINAL OUTPUT:\n",
    "\n",
    "\n",
    "\n",
    "Select lpep_pickup_datetime, trip_distance from green_taxi_data where trip_distance = (\n",
    " SELECT MAX(trip_distance)\n",
    " FROM green_taxi_data)\n",
    " GROUP BY lpep_pickup_datetime, trip_distance\n",
    "+----------------------+---------------+\n",
    "| lpep_pickup_datetime | trip_distance |\n",
    "|----------------------+---------------|\n",
    "| 2019-01-15 19:27:58  | 117.99        |\n",
    "+----------------------+---------------+\n"
   ]
  },
  {
   "cell_type": "markdown",
   "metadata": {},
   "source": []
  },
  {
   "attachments": {},
   "cell_type": "markdown",
   "metadata": {},
   "source": [
    "## Question 5. The number of passengers"
   ]
  },
  {
   "attachments": {},
   "cell_type": "markdown",
   "metadata": {},
   "source": [
    "In 2019-01-01 how many trips had 2 and 3 passengers?\n",
    "\n",
    "* 2:1282,3:254\n",
    "\n",
    " SELECT passenger_count, COUNT(passenger_count) FROM green_taxi_data where passenger_count between 2 and 3 AND DATE(lpep_pickup_datetime) = '2019-01-0\n",
    " 1' group by passenger_count\n",
    "+-----------------+-------+\n",
    "| passenger_count | count |\n",
    "|-----------------+-------|\n",
    "| 2               | 1282  |\n",
    "| 3               | 254   |\n",
    "+-----------------+-------+"
   ]
  },
  {
   "attachments": {},
   "cell_type": "markdown",
   "metadata": {},
   "source": [
    "## Question 6. Largest tip"
   ]
  },
  {
   "attachments": {},
   "cell_type": "markdown",
   "metadata": {},
   "source": [
    "For the passengers picked up in the Astoria Zone which was the drop off zone that had the largest tip? We want the name of the zone, not the id. \n",
    "\n",
    "* Long Island City/Queens Plaza \n",
    "\n",
    "TERMINAL OUTPUT: \n",
    "\n",
    "SELECT zn.\"Zone\", gn.\"tip_amount\" from zones zn\n",
    "  join green_taxi_data gn on zn.\"LocationID\" = gn.\"DOLocationID\"\n",
    " where  gn.\"tip_amount\"  = (Select MAX(tip_amount) FROM green_taxi_data g1\n",
    "      INNER JOIN zones z1\n",
    "      ON z1.\"LocationID\" =  g1.\"DOLocationID\" \n",
    "   where g1.\"PULocationID\" = (Select zones.\"LocationID\" from zones where zones.\"Zone\" = 'Astoria'))\n",
    " group by zn.\"Zone\", gn.\"tip_amount\"\n",
    "+-------------------------------+------------+\n",
    "| Zone                          | tip_amount |\n",
    "|-------------------------------+------------|\n",
    "| Long Island City/Queens Plaza | 88.0       |\n",
    "+-------------------------------+------------+\n"
   ]
  }
 ],
 "metadata": {
  "language_info": {
   "name": "python"
  },
  "orig_nbformat": 4
 },
 "nbformat": 4,
 "nbformat_minor": 2
}
